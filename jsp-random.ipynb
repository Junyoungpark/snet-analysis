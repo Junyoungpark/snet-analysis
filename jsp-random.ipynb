{
 "cells": [
  {
   "cell_type": "code",
   "execution_count": 15,
   "metadata": {},
   "outputs": [],
   "source": [
    "from matplotlib import rc\n",
    "# rc('text', usetex=True)\n",
    "\n",
    "import pandas as pd\n",
    "import json\n",
    "import re\n",
    "import numpy as np\n",
    "import matplotlib.pyplot as plt\n",
    "\n",
    "import seaborn as sns\n",
    "sns.set_theme()\n",
    "sns.set_style(\"whitegrid\")"
   ]
  },
  {
   "cell_type": "code",
   "execution_count": 42,
   "metadata": {},
   "outputs": [],
   "source": [
    "def annotate_label(bar, value, size):\n",
    "    height = bar.get_height()\n",
    "    ax.annotate('{:.2f}'.format(value),\n",
    "                xy=(bar.get_x() + bar.get_width() / 2, height),\n",
    "                xytext=(0, 3),  # 3 points vertical offset\n",
    "                size=size,\n",
    "                textcoords=\"offset points\",\n",
    "                ha='center', va='bottom')"
   ]
  },
  {
   "cell_type": "code",
   "execution_count": 43,
   "metadata": {},
   "outputs": [
    {
     "data": {
      "text/html": [
       "<div>\n",
       "<style scoped>\n",
       "    .dataframe tbody tr th:only-of-type {\n",
       "        vertical-align: middle;\n",
       "    }\n",
       "\n",
       "    .dataframe tbody tr th {\n",
       "        vertical-align: top;\n",
       "    }\n",
       "\n",
       "    .dataframe thead th {\n",
       "        text-align: right;\n",
       "    }\n",
       "</style>\n",
       "<table border=\"1\" class=\"dataframe\">\n",
       "  <thead>\n",
       "    <tr style=\"text-align: right;\">\n",
       "      <th></th>\n",
       "      <th>ScheduleNet</th>\n",
       "      <th>CP-SAT</th>\n",
       "      <th>MOR</th>\n",
       "      <th>SPT</th>\n",
       "      <th>FIFO</th>\n",
       "    </tr>\n",
       "    <tr>\n",
       "      <th>Size</th>\n",
       "      <th></th>\n",
       "      <th></th>\n",
       "      <th></th>\n",
       "      <th></th>\n",
       "      <th></th>\n",
       "    </tr>\n",
       "  </thead>\n",
       "  <tbody>\n",
       "    <tr>\n",
       "      <th>30 x 20</th>\n",
       "      <td>2295.500000</td>\n",
       "      <td>1986.110000</td>\n",
       "      <td>2372.680000</td>\n",
       "      <td>2564.17</td>\n",
       "      <td>2535.680000</td>\n",
       "    </tr>\n",
       "    <tr>\n",
       "      <th>50 x 20</th>\n",
       "      <td>3238.040000</td>\n",
       "      <td>3124.290000</td>\n",
       "      <td>3366.130000</td>\n",
       "      <td>3675.06</td>\n",
       "      <td>3546.170000</td>\n",
       "    </tr>\n",
       "    <tr>\n",
       "      <th>100 x 20</th>\n",
       "      <td>5790.314286</td>\n",
       "      <td>5897.285714</td>\n",
       "      <td>5921.057143</td>\n",
       "      <td>6342.40</td>\n",
       "      <td>6113.542857</td>\n",
       "    </tr>\n",
       "  </tbody>\n",
       "</table>\n",
       "</div>"
      ],
      "text/plain": [
       "          ScheduleNet       CP-SAT          MOR      SPT         FIFO\n",
       "Size                                                                 \n",
       "30 x 20   2295.500000  1986.110000  2372.680000  2564.17  2535.680000\n",
       "50 x 20   3238.040000  3124.290000  3366.130000  3675.06  3546.170000\n",
       "100 x 20  5790.314286  5897.285714  5921.057143  6342.40  6113.542857"
      ]
     },
     "execution_count": 43,
     "metadata": {},
     "output_type": "execute_result"
    }
   ],
   "source": [
    "df = pd.read_csv('random-jsp.csv').set_index('Size')\n",
    "df"
   ]
  },
  {
   "cell_type": "code",
   "execution_count": 44,
   "metadata": {},
   "outputs": [],
   "source": [
    "algos = df.columns.to_list()\n",
    "sizes = df.index.to_list()"
   ]
  },
  {
   "cell_type": "code",
   "execution_count": 45,
   "metadata": {},
   "outputs": [],
   "source": [
    "means = df.to_numpy()\n",
    "means = means / np.reshape(means[:,0], (-1,1))"
   ]
  },
  {
   "cell_type": "code",
   "execution_count": 48,
   "metadata": {},
   "outputs": [],
   "source": [
    "bar_width = 0.15\n",
    "x_label_size = 15\n",
    "annote_size = 12\n",
    "\n",
    "hatchs = ['//', '/', 'x']\n",
    "y_min, y_max = 0.8, 1.2"
   ]
  },
  {
   "cell_type": "code",
   "execution_count": 61,
   "metadata": {},
   "outputs": [
    {
     "data": {
      "image/png": "[encoded data removed]",
      "text/plain": [
       "<Figure size 720x288 with 3 Axes>"
      ]
     },
     "metadata": {},
     "output_type": "display_data"
    }
   ],
   "source": [
    "fig, axes = plt.subplots(1,len(sizes), figsize=(10,4), sharey=True)\n",
    "for i, (size, ax, mean) in enumerate(zip(sizes, axes, means)):\n",
    "    bars = ax.bar(np.arange(len(algos)) + bar_width, mean, color='g')\n",
    "    ax.set_xlabel(size, size=x_label_size)\n",
    "    ax.set_xticklabels([])\n",
    "    \n",
    "    for ii, bar in enumerate(bars):\n",
    "        if ii == 0: # Snet\n",
    "            bar.set_color('b')\n",
    "            \n",
    "        elif ii == 1: # CP-SAT (An exact solver from or-tools)\n",
    "            bar.set_color('orange')\n",
    "            annotate_label(bar, mean[ii], annote_size)        \n",
    "        else: # PDRs\n",
    "            bar.set_hatch(hatchs[ii-2])\n",
    "            annotate_label(bar, mean[ii], annote_size)        \n",
    "    ax.set_ylim(y_min, y_max)\n",
    "    ax.grid(axis='x')\n",
    "\n",
    "fig.legend(bars, algos, ncol=len(algos), loc='upper center',\n",
    "           bbox_to_anchor=(0.47, 1.10), fontsize=15)    \n",
    "fig.tight_layout()"
   ]
  },
  {
   "cell_type": "code",
   "execution_count": null,
   "metadata": {},
   "outputs": [],
   "source": []
  }
 ],
 "metadata": {
  "kernelspec": {
   "display_name": "Python 3",
   "language": "python",
   "name": "python3"
  },
  "language_info": {
   "codemirror_mode": {
    "name": "ipython",
    "version": 3
   },
   "file_extension": ".py",
   "mimetype": "text/x-python",
   "name": "python",
   "nbconvert_exporter": "python",
   "pygments_lexer": "ipython3",
   "version": "3.7.4"
  }
 },
 "nbformat": 4,
 "nbformat_minor": 4
}
