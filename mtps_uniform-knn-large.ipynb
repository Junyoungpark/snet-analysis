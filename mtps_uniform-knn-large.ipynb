{
 "cells": [
  {
   "cell_type": "code",
   "execution_count": 1,
   "metadata": {},
   "outputs": [],
   "source": [
    "from matplotlib import rc\n",
    "# rc('text', usetex=True)\n",
    "\n",
    "import pandas as pd\n",
    "import json\n",
    "import re\n",
    "import numpy as np\n",
    "import matplotlib.pyplot as plt"
   ]
  },
  {
   "cell_type": "code",
   "execution_count": 2,
   "metadata": {},
   "outputs": [],
   "source": [
    "df = pd.read_excel('random_mtsp.xls')"
   ]
  },
  {
   "cell_type": "code",
   "execution_count": 3,
   "metadata": {},
   "outputs": [],
   "source": [
    "or_tools = df.iloc[:,1]\n",
    "def parse_data(sub_df):\n",
    "    data = []\n",
    "    for datum in sub_df:\n",
    "        try:\n",
    "            perfs = [float(s) for s in re.findall(\"([0-9]+[,.]+[0-9]+)\", datum)]\n",
    "            data.append(perfs)\n",
    "        except:\n",
    "            pass\n",
    "    return np.stack(data)"
   ]
  },
  {
   "cell_type": "code",
   "execution_count": 4,
   "metadata": {},
   "outputs": [],
   "source": [
    "targer_index = 1 # 0: max makespan 1: mean makespan 2: mean util 5: std makespan\n",
    "data_cols = [2, 1, 4, 5, 6,7]\n",
    "ad = []\n",
    "for data_col in data_cols:\n",
    "    alog_results = df.iloc[:,data_col]\n",
    "    alog_perfs = parse_data(alog_results)[:, targer_index]\n",
    "    ad.append(alog_perfs)"
   ]
  },
  {
   "cell_type": "code",
   "execution_count": 6,
   "metadata": {},
   "outputs": [],
   "source": [
    "aggregated_data = np.stack(ad).T # map size x algos\n",
    "\n",
    "algos = ['ScheduleNet', 'OR-tools', 'FI', 'NI', 'NN', 'RI']\n",
    "sizes = ['500x(30~50)','750x(30~50)']\n",
    "sizes_latex = [r'$500 \\times (30 \\sim 50)$', \n",
    "               r'$750 \\times (30 \\sim 50)$'] \n",
    "\n",
    "aggregated_df = pd.DataFrame(aggregated_data[5:,:],\n",
    "                             index=sizes,\n",
    "                             columns=algos)"
   ]
  },
  {
   "cell_type": "code",
   "execution_count": 18,
   "metadata": {},
   "outputs": [],
   "source": [
    "aggregated_data = aggregated_df.to_numpy()"
   ]
  },
  {
   "cell_type": "code",
   "execution_count": 32,
   "metadata": {},
   "outputs": [],
   "source": [
    "def annotate_label(bar, value, size):\n",
    "    height = bar.get_height()\n",
    "    ax.annotate('{:.2f}'.format(value),\n",
    "                xy=(bar.get_x() + bar.get_width() / 2, height),\n",
    "                xytext=(0, 3),  # 3 points vertical offset\n",
    "                size=size,\n",
    "                textcoords=\"offset points\",\n",
    "                ha='center', va='bottom')"
   ]
  },
  {
   "cell_type": "code",
   "execution_count": 33,
   "metadata": {},
   "outputs": [
    {
     "data": {
      "text/plain": [
       "array([[ 2.156,  7.66 ,  2.381,  2.302,  2.325,  2.302],\n",
       "       [ 2.196, 10.844,  2.507,  2.404,  2.442,  2.426]])"
      ]
     },
     "execution_count": 33,
     "metadata": {},
     "output_type": "execute_result"
    }
   ],
   "source": [
    "aggregated_data"
   ]
  },
  {
   "cell_type": "code",
   "execution_count": 44,
   "metadata": {
    "scrolled": true
   },
   "outputs": [
    {
     "data": {
      "image/png": "[encoded data removed]",
      "text/plain": [
       "<Figure size 360x288 with 2 Axes>"
      ]
     },
     "metadata": {},
     "output_type": "display_data"
    }
   ],
   "source": [
    "import seaborn as sns\n",
    "sns.set_theme()\n",
    "sns.set_style(\"whitegrid\")\n",
    "\n",
    "alpha = 1.0\n",
    "bar_width = 0.15\n",
    "colors = ['b','orange','g','g','g','g']\n",
    "hatchs = [None, None ,'//', '/', 'x', '-']\n",
    "\n",
    "y_min, y_max = 0.8, 1.3\n",
    "\n",
    "x_label_size = 15\n",
    "annote_size = 14\n",
    "\n",
    "fig, axes = plt.subplots(1,len(sizes_latex), figsize=(5,4), sharey=True)\n",
    "for i, (size, ax) in enumerate(zip(sizes_latex, axes)):\n",
    "\n",
    "    viz_data = aggregated_data[i, :] / aggregated_data[i, 0]\n",
    "    viz_data = np.clip(viz_data, y_min, y_max)\n",
    "    sch_perf = aggregated_data[i, :] / aggregated_data[i, 0]\n",
    "    \n",
    "    bars = ax.bar(np.arange(len(algos)) + bar_width, viz_data,\n",
    "                      alpha=alpha, color='g')\n",
    "    ax.set_xlabel(size, size=x_label_size)\n",
    "    ax.set_ylim(y_min, y_max)\n",
    "    ax.set_xticklabels([])\n",
    "    \n",
    "    for ii, bar in enumerate(bars):        \n",
    "        annotate_label(bar, sch_perf[ii], 13)\n",
    "\n",
    "\n",
    "    for ii, c in enumerate(colors):\n",
    "        if ii >= 2:\n",
    "            bars[ii].set_hatch(hatchs[ii])\n",
    "        else:\n",
    "            bars[ii].set_color(c)\n",
    "\n",
    "fig.legend(bar_list, algos, ncol=len(algos), bbox_to_anchor=(1.0, 1.10), \n",
    "           loc='upper center',\n",
    "           fontsize=15)    \n",
    "fig.tight_layout()"
   ]
  },
  {
   "cell_type": "code",
   "execution_count": null,
   "metadata": {},
   "outputs": [],
   "source": []
  }
 ],
 "metadata": {
  "kernelspec": {
   "display_name": "Python 3",
   "language": "python",
   "name": "python3"
  },
  "language_info": {
   "codemirror_mode": {
    "name": "ipython",
    "version": 3
   },
   "file_extension": ".py",
   "mimetype": "text/x-python",
   "name": "python",
   "nbconvert_exporter": "python",
   "pygments_lexer": "ipython3",
   "version": "3.7.4"
  }
 },
 "nbformat": 4,
 "nbformat_minor": 4
}
