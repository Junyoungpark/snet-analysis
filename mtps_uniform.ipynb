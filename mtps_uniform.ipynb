{
 "cells": [
  {
   "cell_type": "code",
   "execution_count": 115,
   "metadata": {},
   "outputs": [],
   "source": [
    "import pandas as pd\n",
    "import json\n",
    "import re\n",
    "import numpy as np\n",
    "import matplotlib.pyplot as plt"
   ]
  },
  {
   "cell_type": "code",
   "execution_count": 10,
   "metadata": {},
   "outputs": [],
   "source": [
    "df = pd.read_excel('random_mtsp.xls')"
   ]
  },
  {
   "cell_type": "code",
   "execution_count": 101,
   "metadata": {},
   "outputs": [],
   "source": [
    "or_tools = df.iloc[:,1]\n",
    "def parse_data(sub_df):\n",
    "    data = []\n",
    "    for datum in sub_df:\n",
    "        try:\n",
    "            perfs = [float(s) for s in re.findall(\"([0-9]+[,.]+[0-9]+)\", datum)]\n",
    "            data.append(perfs)\n",
    "        except:\n",
    "            pass\n",
    "    return np.stack(data)"
   ]
  },
  {
   "cell_type": "code",
   "execution_count": 110,
   "metadata": {},
   "outputs": [],
   "source": [
    "targer_index = 1 # 0: max makespan 1: mean makespan 2: mean util\n",
    "\n",
    "or_tools = df.iloc[:,1]\n",
    "or_tools_results = parse_data(or_tools)[:, targer_index]\n",
    "\n",
    "snet = df.iloc[:,2]\n",
    "snet_results = parse_data(snet)[:, targer_index]\n",
    "\n",
    "FI = df.iloc[:,4]\n",
    "FI_results = parse_data(FI)[:, targer_index]\n",
    "\n",
    "NI = df.iloc[:,5]\n",
    "NI_results = parse_data(NI)[:, targer_index]\n",
    "\n",
    "NN = df.iloc[:,6]\n",
    "NN_results = parse_data(NN)[:, targer_index]\n",
    "\n",
    "RI = df.iloc[:,7]\n",
    "RI_results = parse_data(RI)[:, targer_index]"
   ]
  },
  {
   "cell_type": "code",
   "execution_count": 118,
   "metadata": {},
   "outputs": [
    {
     "data": {
      "text/plain": [
       "[<matplotlib.lines.Line2D at 0x2551561ecc8>]"
      ]
     },
     "execution_count": 118,
     "metadata": {},
     "output_type": "execute_result"
    },
    {
     "data": {
      "image/png": "[encoded data removed]",
      "text/plain": [
       "<Figure size 432x288 with 1 Axes>"
      ]
     },
     "metadata": {
      "needs_background": "light"
     },
     "output_type": "display_data"
    }
   ],
   "source": [
    "plt.plot(or_tools_results)\n",
    "plt.plot(snet_results)\n",
    "plt.plot(FI_results)\n",
    "plt.plot(NI_results)\n",
    "plt.plot(NN_results)\n",
    "plt.plot(RI_results)"
   ]
  }
 ],
 "metadata": {
  "kernelspec": {
   "display_name": "Python 3",
   "language": "python",
   "name": "python3"
  },
  "language_info": {
   "codemirror_mode": {
    "name": "ipython",
    "version": 3
   },
   "file_extension": ".py",
   "mimetype": "text/x-python",
   "name": "python",
   "nbconvert_exporter": "python",
   "pygments_lexer": "ipython3",
   "version": "3.7.4"
  }
 },
 "nbformat": 4,
 "nbformat_minor": 4
}
