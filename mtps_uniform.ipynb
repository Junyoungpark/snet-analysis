{
 "cells": [
  {
   "cell_type": "code",
   "execution_count": 2,
   "metadata": {},
   "outputs": [],
   "source": [
    "from matplotlib import rc\n",
    "# rc('text', usetex=True)\n",
    "\n",
    "import pandas as pd\n",
    "import json\n",
    "import re\n",
    "import numpy as np\n",
    "import matplotlib.pyplot as plt"
   ]
  },
  {
   "cell_type": "code",
   "execution_count": 3,
   "metadata": {},
   "outputs": [],
   "source": [
    "df = pd.read_excel('random_mtsp.xls')"
   ]
  },
  {
   "cell_type": "code",
   "execution_count": 4,
   "metadata": {},
   "outputs": [],
   "source": [
    "or_tools = df.iloc[:,1]\n",
    "def parse_data(sub_df):\n",
    "    data = []\n",
    "    for datum in sub_df:\n",
    "        try:\n",
    "            perfs = [float(s) for s in re.findall(\"([0-9]+[,.]+[0-9]+)\", datum)]\n",
    "            data.append(perfs)\n",
    "        except:\n",
    "            pass\n",
    "    return np.stack(data)"
   ]
  },
  {
   "cell_type": "code",
   "execution_count": 5,
   "metadata": {},
   "outputs": [],
   "source": [
    "targer_index = 2 # 0: max makespan 1: mean makespan 2: mean util\n",
    "data_cols = [2, 1, 4, 5, 6,7]\n",
    "ad = []\n",
    "for data_col in data_cols:\n",
    "    alog_results = df.iloc[:,data_col]\n",
    "    alog_perfs = parse_data(alog_results)[:, targer_index]\n",
    "    ad.append(alog_perfs)"
   ]
  },
  {
   "cell_type": "code",
   "execution_count": 6,
   "metadata": {},
   "outputs": [],
   "source": [
    "aggregated_data = np.stack(ad).T # map size x algos\n",
    "\n",
    "algos = ['ScheduleNet', 'OR-tools', 'FI', 'NI', 'NN', 'RI']\n",
    "sizes = ['30x3','50x5','75x7','100x10','200x(20~30)','500x(30~50)','750x(30~50)']\n",
    "sizes_latex = [r'$30 \\times 3$', \n",
    "               r'$50 \\times 5$',\n",
    "               r'$75 \\times 7$',\n",
    "               r'$100 \\times 10$',\n",
    "               r'$200 \\times (20 \\sim 30)$', \n",
    "               r'$500 \\times (30 \\sim 50)$', \n",
    "               r'$750 \\times (30 \\sim 50)$'] \n",
    "\n",
    "aggregated_df = pd.DataFrame(aggregated_data,\n",
    "                             index=sizes,\n",
    "                             columns=algos)"
   ]
  },
  {
   "cell_type": "code",
   "execution_count": 7,
   "metadata": {},
   "outputs": [
    {
     "data": {
      "text/html": [
       "<div>\n",
       "<style scoped>\n",
       "    .dataframe tbody tr th:only-of-type {\n",
       "        vertical-align: middle;\n",
       "    }\n",
       "\n",
       "    .dataframe tbody tr th {\n",
       "        vertical-align: top;\n",
       "    }\n",
       "\n",
       "    .dataframe thead th {\n",
       "        text-align: right;\n",
       "    }\n",
       "</style>\n",
       "<table border=\"1\" class=\"dataframe\">\n",
       "  <thead>\n",
       "    <tr style=\"text-align: right;\">\n",
       "      <th></th>\n",
       "      <th>ScheduleNet</th>\n",
       "      <th>OR-tools</th>\n",
       "      <th>FI</th>\n",
       "      <th>NI</th>\n",
       "      <th>NN</th>\n",
       "      <th>RI</th>\n",
       "    </tr>\n",
       "  </thead>\n",
       "  <tbody>\n",
       "    <tr>\n",
       "      <th>30x3</th>\n",
       "      <td>1.000</td>\n",
       "      <td>1.000</td>\n",
       "      <td>1.0</td>\n",
       "      <td>1.0</td>\n",
       "      <td>1.0</td>\n",
       "      <td>1.0</td>\n",
       "    </tr>\n",
       "    <tr>\n",
       "      <th>50x5</th>\n",
       "      <td>1.000</td>\n",
       "      <td>1.000</td>\n",
       "      <td>1.0</td>\n",
       "      <td>1.0</td>\n",
       "      <td>1.0</td>\n",
       "      <td>1.0</td>\n",
       "    </tr>\n",
       "    <tr>\n",
       "      <th>75x7</th>\n",
       "      <td>1.000</td>\n",
       "      <td>0.987</td>\n",
       "      <td>1.0</td>\n",
       "      <td>1.0</td>\n",
       "      <td>1.0</td>\n",
       "      <td>1.0</td>\n",
       "    </tr>\n",
       "    <tr>\n",
       "      <th>100x10</th>\n",
       "      <td>1.000</td>\n",
       "      <td>0.851</td>\n",
       "      <td>1.0</td>\n",
       "      <td>1.0</td>\n",
       "      <td>1.0</td>\n",
       "      <td>1.0</td>\n",
       "    </tr>\n",
       "    <tr>\n",
       "      <th>200x(20~30)</th>\n",
       "      <td>0.992</td>\n",
       "      <td>0.396</td>\n",
       "      <td>1.0</td>\n",
       "      <td>1.0</td>\n",
       "      <td>1.0</td>\n",
       "      <td>1.0</td>\n",
       "    </tr>\n",
       "    <tr>\n",
       "      <th>500x(30~50)</th>\n",
       "      <td>0.937</td>\n",
       "      <td>0.086</td>\n",
       "      <td>1.0</td>\n",
       "      <td>1.0</td>\n",
       "      <td>1.0</td>\n",
       "      <td>1.0</td>\n",
       "    </tr>\n",
       "    <tr>\n",
       "      <th>750x(30~50)</th>\n",
       "      <td>0.967</td>\n",
       "      <td>0.076</td>\n",
       "      <td>1.0</td>\n",
       "      <td>1.0</td>\n",
       "      <td>1.0</td>\n",
       "      <td>1.0</td>\n",
       "    </tr>\n",
       "  </tbody>\n",
       "</table>\n",
       "</div>"
      ],
      "text/plain": [
       "             ScheduleNet  OR-tools   FI   NI   NN   RI\n",
       "30x3               1.000     1.000  1.0  1.0  1.0  1.0\n",
       "50x5               1.000     1.000  1.0  1.0  1.0  1.0\n",
       "75x7               1.000     0.987  1.0  1.0  1.0  1.0\n",
       "100x10             1.000     0.851  1.0  1.0  1.0  1.0\n",
       "200x(20~30)        0.992     0.396  1.0  1.0  1.0  1.0\n",
       "500x(30~50)        0.937     0.086  1.0  1.0  1.0  1.0\n",
       "750x(30~50)        0.967     0.076  1.0  1.0  1.0  1.0"
      ]
     },
     "execution_count": 7,
     "metadata": {},
     "output_type": "execute_result"
    }
   ],
   "source": [
    "aggregated_df"
   ]
  },
  {
   "cell_type": "code",
   "execution_count": null,
   "metadata": {},
   "outputs": [],
   "source": [
    "# alpha = 1.0\n",
    "# bar_width = 0.15\n",
    "# colors = []\n",
    "\n",
    "# fig, ax = plt.subplots(1,1, figsize=(10,5))\n",
    "# for i, algo_name in enumerate(algos):  \n",
    "#     bar = ax.bar(np.arange(len(sizes)) + bar_width * i,\n",
    "#                  aggregated_data[:, i], \n",
    "#                  bar_width,\n",
    "#                  alpha=alpha,\n",
    "#                  label=algo_name)\n",
    "# #     ax.set_xticklabels(sizes)\n",
    "# fig.legend()"
   ]
  },
  {
   "cell_type": "code",
   "execution_count": 8,
   "metadata": {},
   "outputs": [],
   "source": [
    "def annotate_label(bar, value, size):\n",
    "    height = bar.get_height()\n",
    "    ax.annotate('{:.2f}'.format(value),\n",
    "                xy=(bar.get_x() + bar.get_width() / 2, height),\n",
    "                xytext=(0, -20),  # 3 points vertical offset\n",
    "                size=size,\n",
    "                textcoords=\"offset points\",\n",
    "                ha='center', va='bottom')"
   ]
  },
  {
   "cell_type": "code",
   "execution_count": 9,
   "metadata": {},
   "outputs": [
    {
     "data": {
      "image/png": "[encoded data removed]",
      "text/plain": [
       "<Figure size 1440x288 with 7 Axes>"
      ]
     },
     "metadata": {},
     "output_type": "display_data"
    }
   ],
   "source": [
    "import seaborn as sns\n",
    "sns.set_theme()\n",
    "sns.set_style(\"whitegrid\")\n",
    "\n",
    "alpha = 1.0\n",
    "bar_width = 0.15\n",
    "colors = ['b','orange','g','g','g','g']\n",
    "hatchs = [None, None ,'//', '/', 'x', '-']\n",
    "\n",
    "norm = True\n",
    "sharey = False \n",
    "sharey = sharey if not norm else True\n",
    "cutoff_val = 1.3\n",
    "cutoff_outlier = True\n",
    "\n",
    "x_label_size = 15\n",
    "annote_size = 14\n",
    "\n",
    "fig, axes = plt.subplots(1,len(sizes_latex), figsize=(20,4), sharey=sharey)\n",
    "for i, (size, ax) in enumerate(zip(sizes_latex, axes)):\n",
    "    if norm:\n",
    "        viz_data = aggregated_data[i, :] / aggregated_data[i, 0]\n",
    "        or_tools_perf = viz_data[1]\n",
    "        if cutoff_outlier:\n",
    "            viz_data = viz_data.clip(0.0, cutoff_val)\n",
    "    else:\n",
    "        viz_data = aggregated_data[i, :]\n",
    "    \n",
    "    bar_list = ax.bar(np.arange(len(algos)) + bar_width, viz_data,\n",
    "                      alpha=alpha, color='g')\n",
    "    ax.set_xlabel(size, size=x_label_size)\n",
    "    ax.set_xticklabels([])\n",
    "    if norm:\n",
    "        if i >=5:\n",
    "            annotate_label(bar_list[1], or_tools_perf, annote_size)\n",
    "\n",
    "#         ax.set_ylim(0.7, cutoff_val)\n",
    "\n",
    "\n",
    "    for ii, c in enumerate(colors):\n",
    "        if ii >= 2:\n",
    "            bar_list[ii].set_hatch(hatchs[ii])\n",
    "        else:\n",
    "            bar_list[ii].set_color(c)\n",
    "\n",
    "fig.legend(bar_list, algos, ncol=len(algos), bbox_to_anchor=(0.7, 1.10), fontsize=15)    \n",
    "fig.tight_layout()"
   ]
  },
  {
   "cell_type": "code",
   "execution_count": null,
   "metadata": {},
   "outputs": [],
   "source": []
  }
 ],
 "metadata": {
  "kernelspec": {
   "display_name": "Python 3",
   "language": "python",
   "name": "python3"
  },
  "language_info": {
   "codemirror_mode": {
    "name": "ipython",
    "version": 3
   },
   "file_extension": ".py",
   "mimetype": "text/x-python",
   "name": "python",
   "nbconvert_exporter": "python",
   "pygments_lexer": "ipython3",
   "version": "3.7.4"
  }
 },
 "nbformat": 4,
 "nbformat_minor": 4
}
