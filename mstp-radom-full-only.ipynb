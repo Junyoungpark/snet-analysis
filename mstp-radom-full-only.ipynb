{
 "cells": [
  {
   "cell_type": "code",
   "execution_count": 1,
   "metadata": {},
   "outputs": [],
   "source": [
    "from matplotlib import rc\n",
    "# rc('text', usetex=True)\n",
    "\n",
    "import pandas as pd\n",
    "import json\n",
    "import re\n",
    "import numpy as np\n",
    "import matplotlib.pyplot as plt"
   ]
  },
  {
   "cell_type": "code",
   "execution_count": 2,
   "metadata": {},
   "outputs": [],
   "source": [
    "df = pd.read_csv('random-mstp-full-graph.csv').set_index('Size')\n",
    "df = df.drop(labels=['30 x 3', '75 x 7']) # drop too small caese \n",
    "aggregated_data = df.to_numpy()"
   ]
  },
  {
   "cell_type": "code",
   "execution_count": 3,
   "metadata": {},
   "outputs": [
    {
     "data": {
      "text/html": [
       "<div>\n",
       "<style scoped>\n",
       "    .dataframe tbody tr th:only-of-type {\n",
       "        vertical-align: middle;\n",
       "    }\n",
       "\n",
       "    .dataframe tbody tr th {\n",
       "        vertical-align: top;\n",
       "    }\n",
       "\n",
       "    .dataframe thead th {\n",
       "        text-align: right;\n",
       "    }\n",
       "</style>\n",
       "<table border=\"1\" class=\"dataframe\">\n",
       "  <thead>\n",
       "    <tr style=\"text-align: right;\">\n",
       "      <th></th>\n",
       "      <th>ScheduleNet</th>\n",
       "      <th>ORTools</th>\n",
       "      <th>FI</th>\n",
       "      <th>NI</th>\n",
       "      <th>NN</th>\n",
       "      <th>RI</th>\n",
       "    </tr>\n",
       "    <tr>\n",
       "      <th>Size</th>\n",
       "      <th></th>\n",
       "      <th></th>\n",
       "      <th></th>\n",
       "      <th></th>\n",
       "      <th></th>\n",
       "      <th></th>\n",
       "    </tr>\n",
       "  </thead>\n",
       "  <tbody>\n",
       "    <tr>\n",
       "      <th>50 x 5</th>\n",
       "      <td>1</td>\n",
       "      <td>0.880</td>\n",
       "      <td>1.150</td>\n",
       "      <td>1.064</td>\n",
       "      <td>1.104</td>\n",
       "      <td>1.094</td>\n",
       "    </tr>\n",
       "    <tr>\n",
       "      <th>100 x 10</th>\n",
       "      <td>1</td>\n",
       "      <td>0.926</td>\n",
       "      <td>1.137</td>\n",
       "      <td>1.074</td>\n",
       "      <td>1.111</td>\n",
       "      <td>1.102</td>\n",
       "    </tr>\n",
       "    <tr>\n",
       "      <th>150 x (10-15)</th>\n",
       "      <td>1</td>\n",
       "      <td>0.953</td>\n",
       "      <td>1.163</td>\n",
       "      <td>1.106</td>\n",
       "      <td>1.126</td>\n",
       "      <td>1.117</td>\n",
       "    </tr>\n",
       "    <tr>\n",
       "      <th>200 x (20-30)</th>\n",
       "      <td>1</td>\n",
       "      <td>1.073</td>\n",
       "      <td>1.075</td>\n",
       "      <td>1.038</td>\n",
       "      <td>1.042</td>\n",
       "      <td>1.051</td>\n",
       "    </tr>\n",
       "    <tr>\n",
       "      <th>250 x (15-25)</th>\n",
       "      <td>1</td>\n",
       "      <td>1.210</td>\n",
       "      <td>1.129</td>\n",
       "      <td>1.074</td>\n",
       "      <td>1.096</td>\n",
       "      <td>1.092</td>\n",
       "    </tr>\n",
       "    <tr>\n",
       "      <th>300 x (20-30)</th>\n",
       "      <td>1</td>\n",
       "      <td>2.095</td>\n",
       "      <td>1.117</td>\n",
       "      <td>1.085</td>\n",
       "      <td>1.093</td>\n",
       "      <td>1.086</td>\n",
       "    </tr>\n",
       "    <tr>\n",
       "      <th>350 x (20-30)</th>\n",
       "      <td>1</td>\n",
       "      <td>2.223</td>\n",
       "      <td>1.148</td>\n",
       "      <td>1.092</td>\n",
       "      <td>1.110</td>\n",
       "      <td>1.103</td>\n",
       "    </tr>\n",
       "    <tr>\n",
       "      <th>400 x (20-30)</th>\n",
       "      <td>1</td>\n",
       "      <td>3.041</td>\n",
       "      <td>1.158</td>\n",
       "      <td>1.106</td>\n",
       "      <td>1.120</td>\n",
       "      <td>1.106</td>\n",
       "    </tr>\n",
       "  </tbody>\n",
       "</table>\n",
       "</div>"
      ],
      "text/plain": [
       "               ScheduleNet  ORTools     FI     NI     NN     RI\n",
       "Size                                                           \n",
       "50 x 5                   1    0.880  1.150  1.064  1.104  1.094\n",
       "100 x 10                 1    0.926  1.137  1.074  1.111  1.102\n",
       "150 x (10-15)            1    0.953  1.163  1.106  1.126  1.117\n",
       "200 x (20-30)            1    1.073  1.075  1.038  1.042  1.051\n",
       "250 x (15-25)            1    1.210  1.129  1.074  1.096  1.092\n",
       "300 x (20-30)            1    2.095  1.117  1.085  1.093  1.086\n",
       "350 x (20-30)            1    2.223  1.148  1.092  1.110  1.103\n",
       "400 x (20-30)            1    3.041  1.158  1.106  1.120  1.106"
      ]
     },
     "execution_count": 3,
     "metadata": {},
     "output_type": "execute_result"
    }
   ],
   "source": [
    "df"
   ]
  },
  {
   "cell_type": "code",
   "execution_count": 5,
   "metadata": {},
   "outputs": [],
   "source": [
    "# df_std = pd.read_csv('random-mstp-full-graph-std.csv').set_index('Size')\n",
    "# df_std = df_std.drop(labels=['30 x 3', '75 x 7']) # drop too small caese "
   ]
  },
  {
   "cell_type": "code",
   "execution_count": 8,
   "metadata": {},
   "outputs": [],
   "source": [
    "def convert2latex(mapsize_string):    \n",
    "    return 'r'+ mapsize_string.replace('x', '\\times')"
   ]
  },
  {
   "cell_type": "code",
   "execution_count": 9,
   "metadata": {},
   "outputs": [],
   "source": [
    "def annotate_label(bar, value, size):\n",
    "    height = bar.get_height()\n",
    "    ax.annotate('{:.2f}'.format(value),\n",
    "                xy=(bar.get_x() + bar.get_width() / 2, height),\n",
    "                xytext=(0, 3),  # 3 points vertical offset\n",
    "                size=size,\n",
    "                textcoords=\"offset points\",\n",
    "                ha='center', va='bottom')"
   ]
  },
  {
   "cell_type": "code",
   "execution_count": 10,
   "metadata": {},
   "outputs": [],
   "source": [
    "algos = ['ScheduleNet', 'OR-tools', 'FI', 'NI', 'NN', 'RI']\n",
    "sizes = [convert2latex(mapsize) for mapsize in df.index]\n",
    "sizes_latex = df.index.to_list()"
   ]
  },
  {
   "cell_type": "code",
   "execution_count": 12,
   "metadata": {},
   "outputs": [
    {
     "data": {
      "image/png": "[encoded data removed]",
      "text/plain": [
       "<Figure size 1440x288 with 8 Axes>"
      ]
     },
     "metadata": {},
     "output_type": "display_data"
    }
   ],
   "source": [
    "import seaborn as sns\n",
    "sns.set_theme()\n",
    "sns.set_style(\"whitegrid\")\n",
    "\n",
    "norm = True\n",
    "alpha = 1.0\n",
    "bar_width = 0.15\n",
    "colors = ['b','orange','g','g','g','g']\n",
    "hatchs = [None, None ,'//', '/', 'x', '-']\n",
    "\n",
    "cutoff_val = 1.3\n",
    "cutoff_outlier = True\n",
    "y_min = 0.8\n",
    "\n",
    "x_label_size = 15\n",
    "y_label_size = 17\n",
    "annote_size = 12\n",
    "\n",
    "fig, axes = plt.subplots(1,len(sizes_latex), figsize=(20,4), sharey=True)\n",
    "for i, (size, ax) in enumerate(zip(sizes_latex, axes)):\n",
    "    if norm:\n",
    "        viz_data = aggregated_data[i, :] / aggregated_data[i, 0]\n",
    "        or_tools_perf = viz_data[1]\n",
    "        perfs = viz_data\n",
    "        if cutoff_outlier:\n",
    "            viz_data = viz_data.clip(0.0, cutoff_val)\n",
    "    else:\n",
    "        viz_data = aggregated_data[i, :]\n",
    "    \n",
    "    bar_list = ax.bar(np.arange(len(algos)) + bar_width, viz_data,\n",
    "                      alpha=alpha, color='g')\n",
    "    ax.set_xlabel(size, size=x_label_size)\n",
    "    for tick in ax.yaxis.get_major_ticks():\n",
    "        tick.label.set_fontsize(y_label_size) \n",
    "    ax.grid(axis='x')\n",
    "#     ax.grid('off')\n",
    "    ax.set_xticklabels([])\n",
    "    ax.set_ylim(y_min, cutoff_val)\n",
    "    \n",
    "    if i >=0:\n",
    "        \n",
    "#         annotate_label(bar_list[1], or_tools_perf, annote_size)\n",
    "        for bar, perf in zip(bar_list[1:], perfs[1:]):\n",
    "            annotate_label(bar, perf, annote_size)\n",
    "\n",
    "    for ii, c in enumerate(colors):\n",
    "        if ii >= 2:\n",
    "            bar_list[ii].set_hatch(hatchs[ii])\n",
    "        else:\n",
    "            bar_list[ii].set_color(c)\n",
    "\n",
    "fig.legend(bar_list, algos, ncol=len(algos), bbox_to_anchor=(0.7, 1.10), fontsize=15)    \n",
    "fig.tight_layout()"
   ]
  }
 ],
 "metadata": {
  "kernelspec": {
   "display_name": "Python 3",
   "language": "python",
   "name": "python3"
  },
  "language_info": {
   "codemirror_mode": {
    "name": "ipython",
    "version": 3
   },
   "file_extension": ".py",
   "mimetype": "text/x-python",
   "name": "python",
   "nbconvert_exporter": "python",
   "pygments_lexer": "ipython3",
   "version": "3.7.4"
  }
 },
 "nbformat": 4,
 "nbformat_minor": 4
}
